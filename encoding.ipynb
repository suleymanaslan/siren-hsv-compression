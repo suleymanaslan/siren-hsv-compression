{
 "cells": [
  {
   "cell_type": "code",
   "execution_count": null,
   "id": "db560729-f553-4da1-afb2-469435e1aab9",
   "metadata": {},
   "outputs": [],
   "source": [
    "import os\n",
    "import cv2\n",
    "import numpy as np\n",
    "import moviepy.video.io.ImageSequenceClip\n",
    "from moviepy.editor import VideoFileClip\n",
    "from skimage.metrics import peak_signal_noise_ratio as PSNR\n",
    "from skimage.metrics import structural_similarity as SSIM\n",
    "\n",
    "time = 31\n",
    "channels = 33\n",
    "\n",
    "for codec in ['libvpx']:\n",
    "    out_folder = f'outputs/moviepy/{codec}'\n",
    "    if not os.path.exists(out_folder):\n",
    "        os.makedirs(out_folder)\n",
    "    for ci in range(channels):\n",
    "        vid_imgs = []\n",
    "        for ti in range(time):\n",
    "            im = cv2.imread(f'dataset/hyperspectral-video-33bands/f{ti+1}/MSV_1_{ci+1}.png')\n",
    "            vid_imgs.append(im)\n",
    "        clip = moviepy.video.io.ImageSequenceClip.ImageSequenceClip(vid_imgs, fps=24)\n",
    "        clip.write_videofile(f\"{out_folder}/{ci+1}.webm\", audio=False, preset='veryslow', logger=None, codec=codec)\n",
    "    psnrs = []\n",
    "    ssims = []\n",
    "    for ci in range(channels):\n",
    "        clip = VideoFileClip(f\"{out_folder}/{ci+1}.webm\")\n",
    "        for ti, frames in enumerate(clip.iter_frames()):\n",
    "            if ti >= time:\n",
    "                continue\n",
    "            gray_frames = cv2.cvtColor(frames, cv2.COLOR_RGB2GRAY)\n",
    "            im = cv2.imread(f'dataset/hyperspectral-video-33bands/f{ti+1}/MSV_1_{ci+1}.png')\n",
    "            im = cv2.cvtColor(im, cv2.COLOR_BGR2GRAY)\n",
    "            psnrs.append(PSNR(gray_frames, im))\n",
    "            ssims.append(SSIM(gray_frames, im))\n",
    "    with open(f\"{out_folder}/metrics.txt\",'w') as f:\n",
    "        f.write(f\"MEAN PSNR:{np.array(psnrs).mean()}\\n\")\n",
    "        f.write(f\"MEAN SSIM:{np.array(ssims).mean()}\\n\")"
   ]
  }
 ],
 "metadata": {
  "kernelspec": {
   "display_name": "Python 3 (ipykernel)",
   "language": "python",
   "name": "python3"
  },
  "language_info": {
   "codemirror_mode": {
    "name": "ipython",
    "version": 3
   },
   "file_extension": ".py",
   "mimetype": "text/x-python",
   "name": "python",
   "nbconvert_exporter": "python",
   "pygments_lexer": "ipython3",
   "version": "3.8.12"
  }
 },
 "nbformat": 4,
 "nbformat_minor": 5
}
