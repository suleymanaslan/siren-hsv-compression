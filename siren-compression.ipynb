{
 "cells": [
  {
   "cell_type": "code",
   "execution_count": null,
   "id": "ef752e54-909f-4e4f-8d40-c9faa0a8913b",
   "metadata": {},
   "outputs": [],
   "source": [
    "from dataset import HyperspectralVideoData\n",
    "\n",
    "hsv_data = HyperspectralVideoData('dataset/hyperspectral-video-33bands')\n",
    "hsv_data.load_data(time=31, height=480, width=752, channels=33)"
   ]
  },
  {
   "cell_type": "code",
   "execution_count": null,
   "id": "669fe7e7-486c-41cf-aa05-ba0a591bc99b",
   "metadata": {},
   "outputs": [],
   "source": [
    "import torch\n",
    "from model import Siren\n",
    "\n",
    "device = torch.device(\"cuda:0\")\n",
    "siren = Siren(in_features=3, out_features=33, hidden_features=256, num_hidden_layers=3)\n",
    "\n",
    "optim = torch.optim.Adam(lr=1e-4, params=siren.parameters())\n",
    "scheduler = torch.optim.lr_scheduler.ExponentialLR(optim, gamma=0.9)\n",
    "\n",
    "siren.to(device)"
   ]
  },
  {
   "cell_type": "code",
   "execution_count": null,
   "id": "43d5d1a2-1213-4d0e-8f86-2f8eeecea50b",
   "metadata": {},
   "outputs": [],
   "source": [
    "from datetime import datetime\n",
    "\n",
    "step = 0\n",
    "while True:\n",
    "    batch_coord, batch_data = hsv_data.get_pixels(batch_size=1_000_000)\n",
    "    batch_coord = batch_coord.to(device)\n",
    "    batch_data = batch_data.to(device)\n",
    "    \n",
    "    siren_output = siren(batch_coord)\n",
    "    \n",
    "    loss = (siren_output - batch_data).abs().mean()\n",
    "    \n",
    "    optim.zero_grad()\n",
    "    loss.backward()\n",
    "    optim.step()\n",
    "    \n",
    "    step += 1\n",
    "    if step == 1 or step % 50 == 0:\n",
    "        print(f\"{datetime.now()} step:{step:04d}, loss:{loss.item():0.8f}\")\n",
    "    if step % 150 == 0:\n",
    "        scheduler.step()"
   ]
  },
  {
   "cell_type": "code",
   "execution_count": null,
   "id": "1277ceb1-6f01-4a0c-8d8f-1703cbdd455d",
   "metadata": {},
   "outputs": [],
   "source": [
    "%matplotlib inline\n",
    "import numpy as np\n",
    "import matplotlib.pyplot as plt\n",
    "\n",
    "def to_uint8(im):\n",
    "    return ((im.detach().cpu().clamp(-1,1).numpy() * 0.5 + 0.5) * 255).astype(np.uint8)\n",
    "\n",
    "batch_coord, batch_data = hsv_data.get_images(batch_size=1)\n",
    "\n",
    "with torch.no_grad():\n",
    "    batch_coord = batch_coord.to(device)\n",
    "    batch_data = batch_data.to(device)\n",
    "    \n",
    "    siren_output = siren(batch_coord)\n",
    "    \n",
    "plt.imshow(to_uint8(batch_data[0,...,0]), cmap=\"gray\")\n",
    "plt.show()\n",
    "    \n",
    "plt.imshow(to_uint8(siren_output[0,...,0]), cmap='gray')\n",
    "plt.show()\n",
    "\n",
    "plt.imshow(to_uint8(batch_data[-1,...,-1]), cmap=\"gray\")\n",
    "plt.show()\n",
    "    \n",
    "plt.imshow(to_uint8(siren_output[-1,...,-1]), cmap='gray')\n",
    "plt.show()"
   ]
  },
  {
   "cell_type": "code",
   "execution_count": null,
   "id": "fc8b6680-fa8a-4f49-a55b-4e15c73a78ab",
   "metadata": {},
   "outputs": [],
   "source": [
    "import os\n",
    "from skimage.metrics import peak_signal_noise_ratio as PSNR\n",
    "from skimage.metrics import structural_similarity as SSIM\n",
    "\n",
    "psnrs = []\n",
    "ssims = []\n",
    "with torch.no_grad():\n",
    "    for ti in range(hsv_data.time):\n",
    "        batch_coord = hsv_data.mgrid[ti:ti+1,...].to(device)\n",
    "        batch_data = hsv_data.data[ti:ti+1,...].to(device)\n",
    "        \n",
    "        siren_output = siren(batch_coord)\n",
    "        \n",
    "        batch_data = to_uint8(batch_data)\n",
    "        siren_output = to_uint8(siren_output)\n",
    "        for ci in range(hsv_data.channels):\n",
    "            psnrs.append(PSNR(batch_data[0,...,ci], siren_output[0,...,ci]))\n",
    "            ssims.append(SSIM(batch_data[0,...,ci], siren_output[0,...,ci]))\n",
    "\n",
    "out_folder = f'outputs/siren_256'\n",
    "if not os.path.exists(out_folder):\n",
    "    os.makedirs(out_folder)\n",
    "\n",
    "torch.save(siren.state_dict(), f\"{out_folder}/siren.pt\")\n",
    "with open(f\"{out_folder}/metrics.txt\",'w') as f:\n",
    "    f.write(f\"MEAN PSNR:{np.array(psnrs).mean()}\\n\")\n",
    "    f.write(f\"MEAN SSIM:{np.array(ssims).mean()}\\n\")"
   ]
  },
  {
   "cell_type": "code",
   "execution_count": null,
   "id": "98debfa1-e84c-4d36-92eb-7cbe7ce6d042",
   "metadata": {},
   "outputs": [],
   "source": []
  }
 ],
 "metadata": {
  "kernelspec": {
   "display_name": "Python 3 (ipykernel)",
   "language": "python",
   "name": "python3"
  },
  "language_info": {
   "codemirror_mode": {
    "name": "ipython",
    "version": 3
   },
   "file_extension": ".py",
   "mimetype": "text/x-python",
   "name": "python",
   "nbconvert_exporter": "python",
   "pygments_lexer": "ipython3",
   "version": "3.8.12"
  }
 },
 "nbformat": 4,
 "nbformat_minor": 5
}
