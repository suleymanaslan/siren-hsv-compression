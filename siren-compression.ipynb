{
 "cells": [
  {
   "cell_type": "code",
   "execution_count": null,
   "id": "ef752e54-909f-4e4f-8d40-c9faa0a8913b",
   "metadata": {},
   "outputs": [],
   "source": [
    "from dataset import HyperspectralVideoData\n",
    "\n",
    "hsv_data = HyperspectralVideoData('dataset/hyperspectral-video-33bands')\n",
    "hsv_data.load_data(time=31, height=480, width=752, channels=33)"
   ]
  },
  {
   "cell_type": "code",
   "execution_count": null,
   "id": "357b0d27-9285-4dbc-9d75-c99e26958366",
   "metadata": {},
   "outputs": [],
   "source": [
    "%matplotlib inline\n",
    "import matplotlib.pyplot as plt\n",
    "\n",
    "plt.imshow((hsv_data.data[0,...,-1] + 1)/2, cmap=\"gray\")\n",
    "plt.show()"
   ]
  }
 ],
 "metadata": {
  "kernelspec": {
   "display_name": "Python 3 (ipykernel)",
   "language": "python",
   "name": "python3"
  },
  "language_info": {
   "codemirror_mode": {
    "name": "ipython",
    "version": 3
   },
   "file_extension": ".py",
   "mimetype": "text/x-python",
   "name": "python",
   "nbconvert_exporter": "python",
   "pygments_lexer": "ipython3",
   "version": "3.8.12"
  }
 },
 "nbformat": 4,
 "nbformat_minor": 5
}
