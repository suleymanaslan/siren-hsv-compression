{
 "cells": [
  {
   "cell_type": "code",
   "execution_count": null,
   "id": "ef752e54-909f-4e4f-8d40-c9faa0a8913b",
   "metadata": {},
   "outputs": [],
   "source": [
    "from dataset import HyperspectralVideoData\n",
    "\n",
    "hsv_data = HyperspectralVideoData('dataset/hyperspectral-video-33bands')\n",
    "hsv_data.load_data(time=31, height=480, width=752, channels=33)"
   ]
  },
  {
   "cell_type": "code",
   "execution_count": null,
   "id": "357b0d27-9285-4dbc-9d75-c99e26958366",
   "metadata": {},
   "outputs": [],
   "source": [
    "%matplotlib inline\n",
    "import matplotlib.pyplot as plt\n",
    "\n",
    "plt.imshow((hsv_data.data[0,...,-1] + 1)/2, cmap=\"gray\")\n",
    "plt.show()"
   ]
  },
  {
   "cell_type": "code",
   "execution_count": null,
   "id": "669fe7e7-486c-41cf-aa05-ba0a591bc99b",
   "metadata": {},
   "outputs": [],
   "source": [
    "import torch\n",
    "from model import Siren\n",
    "\n",
    "device = torch.device(\"cuda:0\")\n",
    "siren = Siren(in_features=3, out_features=33, hidden_features=1024, num_hidden_layers=3)\n",
    "\n",
    "optim = torch.optim.Adam(lr=1e-4, params=siren.parameters())\n",
    "scheduler = torch.optim.lr_scheduler.ExponentialLR(optim, gamma=0.9)\n",
    "\n",
    "siren.to(device)"
   ]
  },
  {
   "cell_type": "code",
   "execution_count": null,
   "id": "22fe127c-64d8-4477-ac25-ce4027ccaa7e",
   "metadata": {},
   "outputs": [],
   "source": []
  }
 ],
 "metadata": {
  "kernelspec": {
   "display_name": "Python 3 (ipykernel)",
   "language": "python",
   "name": "python3"
  },
  "language_info": {
   "codemirror_mode": {
    "name": "ipython",
    "version": 3
   },
   "file_extension": ".py",
   "mimetype": "text/x-python",
   "name": "python",
   "nbconvert_exporter": "python",
   "pygments_lexer": "ipython3",
   "version": "3.8.12"
  }
 },
 "nbformat": 4,
 "nbformat_minor": 5
}
